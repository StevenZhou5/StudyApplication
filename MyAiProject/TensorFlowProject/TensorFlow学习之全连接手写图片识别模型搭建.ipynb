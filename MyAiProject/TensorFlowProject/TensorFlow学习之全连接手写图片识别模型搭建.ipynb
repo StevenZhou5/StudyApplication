{
 "cells": [
  {
   "cell_type": "code",
   "execution_count": 133,
   "metadata": {},
   "outputs": [
    {
     "data": {
      "text/plain": [
       "<matplotlib.image.AxesImage at 0x16db8db10>"
      ]
     },
     "execution_count": 133,
     "metadata": {},
     "output_type": "execute_result"
    },
    {
     "data": {
      "image/png": "[encoded data removed]",
      "text/plain": [
       "<Figure size 432x288 with 1 Axes>"
      ]
     },
     "metadata": {
      "needs_background": "light"
     },
     "output_type": "display_data"
    }
   ],
   "source": [
    "import tensorflow as tf \n",
    "from tensorflow.keras import datasets,layers,optimizers\n",
    "import matplotlib.pyplot as plt\n",
    "import numpy as np\n",
    "import time as time\n",
    "\n",
    "from tensorflow.keras.callbacks import TensorBoard\n",
    "\n",
    "\n",
    "#加载\n",
    "(train_image,train_lable),(test_image,test_label) = datasets.mnist.load_data()\n",
    "#归一化初始数据:如果要进行GPU加速，需要把np的数据转换成tensor的格式\n",
    "train_image = train_image/255\n",
    "test_image = test_image/255\n",
    "\n",
    "# 将lable标签转换成one_hot的向量\n",
    "train_lable = tf.keras.utils.to_categorical(train_lable)\n",
    "test_label = tf.keras.utils.to_categorical(test_label)\n",
    "\n",
    "plt.imshow(train_image[0])"
   ]
  },
  {
   "cell_type": "code",
   "execution_count": 138,
   "metadata": {},
   "outputs": [
    {
     "name": "stdout",
     "output_type": "stream",
     "text": [
      "Model: \"sequential_34\"\n",
      "_________________________________________________________________\n",
      "Layer (type)                 Output Shape              Param #   \n",
      "=================================================================\n",
      "flatten_32 (Flatten)         (None, 784)               0         \n",
      "_________________________________________________________________\n",
      "dense_74 (Dense)             (None, 256)               200960    \n",
      "_________________________________________________________________\n",
      "dropout_3 (Dropout)          (None, 256)               0         \n",
      "_________________________________________________________________\n",
      "dense_75 (Dense)             (None, 64)                16448     \n",
      "_________________________________________________________________\n",
      "dense_76 (Dense)             (None, 10)                650       \n",
      "=================================================================\n",
      "Total params: 218,058\n",
      "Trainable params: 218,058\n",
      "Non-trainable params: 0\n",
      "_________________________________________________________________\n",
      "Train on 60000 samples, validate on 10000 samples\n",
      "Epoch 1/15\n",
      "60000/60000 [==============================] - 1s 17us/sample - loss: 0.3056 - acc: 0.9073 - val_loss: 0.1268 - val_acc: 0.9601\n",
      "Epoch 2/15\n",
      "60000/60000 [==============================] - 1s 12us/sample - loss: 0.1205 - acc: 0.9636 - val_loss: 0.0929 - val_acc: 0.9690\n",
      "Epoch 3/15\n",
      "60000/60000 [==============================] - 1s 11us/sample - loss: 0.0939 - acc: 0.9710 - val_loss: 0.0839 - val_acc: 0.9738\n",
      "Epoch 4/15\n",
      "60000/60000 [==============================] - 1s 12us/sample - loss: 0.0722 - acc: 0.9772 - val_loss: 0.0760 - val_acc: 0.9762\n",
      "Epoch 5/15\n",
      "60000/60000 [==============================] - 1s 12us/sample - loss: 0.0638 - acc: 0.9796 - val_loss: 0.0738 - val_acc: 0.9772\n",
      "Epoch 6/15\n",
      "60000/60000 [==============================] - 1s 12us/sample - loss: 0.0558 - acc: 0.9822 - val_loss: 0.0728 - val_acc: 0.9773\n",
      "Epoch 7/15\n",
      "60000/60000 [==============================] - 1s 12us/sample - loss: 0.0519 - acc: 0.9835 - val_loss: 0.0698 - val_acc: 0.9796\n",
      "Epoch 8/15\n",
      "60000/60000 [==============================] - 1s 12us/sample - loss: 0.0450 - acc: 0.9851 - val_loss: 0.0734 - val_acc: 0.9783\n",
      "Epoch 9/15\n",
      "60000/60000 [==============================] - 1s 12us/sample - loss: 0.0423 - acc: 0.9863 - val_loss: 0.0693 - val_acc: 0.9806\n",
      "Epoch 10/15\n",
      "60000/60000 [==============================] - 1s 11us/sample - loss: 0.0383 - acc: 0.9871 - val_loss: 0.0785 - val_acc: 0.9788\n",
      "Epoch 11/15\n",
      "60000/60000 [==============================] - 1s 12us/sample - loss: 0.0374 - acc: 0.9874 - val_loss: 0.0769 - val_acc: 0.9790\n",
      "Epoch 12/15\n",
      "60000/60000 [==============================] - 1s 12us/sample - loss: 0.0356 - acc: 0.9882 - val_loss: 0.0706 - val_acc: 0.9820\n",
      "Epoch 13/15\n",
      "60000/60000 [==============================] - 1s 12us/sample - loss: 0.0338 - acc: 0.9887 - val_loss: 0.0841 - val_acc: 0.9798\n",
      "Epoch 14/15\n",
      "60000/60000 [==============================] - 1s 12us/sample - loss: 0.0338 - acc: 0.9887 - val_loss: 0.0789 - val_acc: 0.9796\n",
      "Epoch 15/15\n",
      "60000/60000 [==============================] - 1s 12us/sample - loss: 0.0264 - acc: 0.9911 - val_loss: 0.0768 - val_acc: 0.9805\n"
     ]
    }
   ],
   "source": [
    "# 建立一个序列model\n",
    "model = tf.keras.Sequential([\n",
    "    layers.Flatten(input_shape=(28,28)),\n",
    "    layers.Dense(256,activation='relu'),\n",
    "    layers.Dropout(0.2),\n",
    "    layers.Dense(64,activation='relu'),\n",
    "    layers.Dense(10,activation='softmax')\n",
    "])\n",
    "\n",
    "model.summary()\n",
    "\n",
    "# 设置模型的相关超参数\n",
    "optimizer = optimizers.Adam(0.005)\n",
    "model.compile(optimizer=optimizer,loss='categorical_crossentropy',metrics=['acc'])\n",
    "\n",
    "# 模型执行\n",
    "history = model.fit(train_image,train_lable,batch_size=512,epochs=15,validation_data=(test_image,test_label))\n",
    "\n",
    "#"
   ]
  },
  {
   "cell_type": "code",
   "execution_count": 127,
   "metadata": {},
   "outputs": [
    {
     "data": {
      "text/plain": [
       "<matplotlib.legend.Legend at 0x16d488b90>"
      ]
     },
     "execution_count": 127,
     "metadata": {},
     "output_type": "execute_result"
    },
    {
     "data": {
      "image/png": "[encoded data removed]",
      "text/plain": [
       "<Figure size 432x288 with 1 Axes>"
      ]
     },
     "metadata": {
      "needs_background": "light"
     },
     "output_type": "display_data"
    }
   ],
   "source": [
    "plt.plot(history.epoch,history.history['loss'],label='loss')\n",
    "plt.plot(history.epoch,history.history['val_loss'],label='bal_loss')\n",
    "plt.legend()# 显示右上角的指示"
   ]
  },
  {
   "cell_type": "code",
   "execution_count": 128,
   "metadata": {},
   "outputs": [
    {
     "data": {
      "text/plain": [
       "<matplotlib.legend.Legend at 0x16d272610>"
      ]
     },
     "execution_count": 128,
     "metadata": {},
     "output_type": "execute_result"
    },
    {
     "data": {
      "image/png": "[encoded data removed]",
      "text/plain": [
       "<Figure size 432x288 with 1 Axes>"
      ]
     },
     "metadata": {
      "needs_background": "light"
     },
     "output_type": "display_data"
    }
   ],
   "source": [
    "plt.plot(history.epoch,history.history['acc'],label='acc')\n",
    "plt.plot(history.epoch,history.history['val_acc'],label='val_acc')\n",
    "plt.legend()"
   ]
  },
  {
   "cell_type": "code",
   "execution_count": 100,
   "metadata": {},
   "outputs": [
    {
     "data": {
      "text/plain": [
       "array([0., 0., 0., 0., 1., 0., 0., 0., 0., 0.], dtype=float32)"
      ]
     },
     "execution_count": 100,
     "metadata": {},
     "output_type": "execute_result"
    },
    {
     "data": {
      "image/png": "[encoded data removed]",
      "text/plain": [
       "<Figure size 432x288 with 1 Axes>"
      ]
     },
     "metadata": {
      "needs_background": "light"
     },
     "output_type": "display_data"
    }
   ],
   "source": [
    "test_index = 56\n",
    "plt.imshow(test_image[test_index])\n",
    "test_label[test_index]"
   ]
  },
  {
   "cell_type": "code",
   "execution_count": 101,
   "metadata": {},
   "outputs": [
    {
     "name": "stdout",
     "output_type": "stream",
     "text": [
      "10000/10000 [==============================] - 0s 16us/sample - loss: 0.1331 - acc: 0.9650\n"
     ]
    },
    {
     "data": {
      "text/plain": [
       "4"
      ]
     },
     "execution_count": 101,
     "metadata": {},
     "output_type": "execute_result"
    }
   ],
   "source": [
    "model.evaluate(test_image,test_label)\n",
    "predict = model.predict(test_image)\n",
    "np.argmax(predict[test_index])"
   ]
  },
  {
   "cell_type": "code",
   "execution_count": 144,
   "metadata": {},
   "outputs": [
    {
     "name": "stdout",
     "output_type": "stream",
     "text": [
      "WARNING:tensorflow:`batch_size` is no longer needed in the `TensorBoard` Callback and will be ignored in TensorFlow 2.0.\n",
      "Train on 54000 samples, validate on 6000 samples\n",
      "Epoch 1/10\n",
      "54000/54000 [==============================] - 3s 47us/sample - loss: 0.0820 - acc: 0.9779 - val_loss: 0.0891 - val_acc: 0.9787\n",
      "Epoch 2/10\n",
      "54000/54000 [==============================] - 3s 47us/sample - loss: 0.0817 - acc: 0.9790 - val_loss: 0.0843 - val_acc: 0.9818\n",
      "Epoch 3/10\n",
      "54000/54000 [==============================] - 3s 47us/sample - loss: 0.0792 - acc: 0.9801 - val_loss: 0.1033 - val_acc: 0.9778\n",
      "Epoch 4/10\n",
      "54000/54000 [==============================] - 3s 47us/sample - loss: 0.0859 - acc: 0.9791 - val_loss: 0.0914 - val_acc: 0.9790\n",
      "Epoch 5/10\n",
      "54000/54000 [==============================] - 3s 47us/sample - loss: 0.0712 - acc: 0.9822 - val_loss: 0.0911 - val_acc: 0.9798\n",
      "Epoch 6/10\n",
      "54000/54000 [==============================] - 3s 47us/sample - loss: 0.0757 - acc: 0.9816 - val_loss: 0.0931 - val_acc: 0.9832\n",
      "Epoch 7/10\n",
      "54000/54000 [==============================] - 3s 47us/sample - loss: 0.0727 - acc: 0.9820 - val_loss: 0.1000 - val_acc: 0.9798\n",
      "Epoch 8/10\n",
      "54000/54000 [==============================] - 3s 48us/sample - loss: 0.0773 - acc: 0.9819 - val_loss: 0.0946 - val_acc: 0.9827\n",
      "Epoch 9/10\n",
      "54000/54000 [==============================] - 3s 48us/sample - loss: 0.0715 - acc: 0.9828 - val_loss: 0.1015 - val_acc: 0.9775\n",
      "Epoch 10/10\n",
      "54000/54000 [==============================] - 3s 48us/sample - loss: 0.0734 - acc: 0.9824 - val_loss: 0.1106 - val_acc: 0.9798\n"
     ]
    },
    {
     "data": {
      "text/plain": [
       "<tensorflow.python.keras.callbacks.History at 0x16e7deb10>"
      ]
     },
     "execution_count": 144,
     "metadata": {},
     "output_type": "execute_result"
    }
   ],
   "source": [
    "# TensorBoard的使用\n",
    "#设定格式化模型名称，以时间戳作为标记\n",
    "model_name = model.name.format(int(time.time()))\n",
    "#设定存储位置，每个模型不一样的路径\n",
    "tensorboard = TensorBoardcallback = tf.keras.callbacks.TensorBoard(\n",
    "    log_dir='/Users/zhenwuzhou/TensorBoardLogs/tensorboardLogs'.format(model_name),\n",
    "    histogram_freq=1, batch_size=32,\n",
    "    write_graph=True, write_grads=False, write_images=True,\n",
    "    embeddings_freq=0, embeddings_layer_names=None,\n",
    "    embeddings_metadata=None, embeddings_data=None, update_freq=500\n",
    ")\n",
    "#使用它\n",
    "model.fit(train_image, train_lable, batch_size =32, epochs=10, validation_split=0.1, callbacks=[tensorboard])\n",
    "\n",
    "\n"
   ]
  },
  {
   "cell_type": "code",
   "execution_count": null,
   "metadata": {},
   "outputs": [],
   "source": []
  }
 ],
 "metadata": {
  "kernelspec": {
   "display_name": "Python 3",
   "language": "python",
   "name": "python3"
  },
  "language_info": {
   "codemirror_mode": {
    "name": "ipython",
    "version": 3
   },
   "file_extension": ".py",
   "mimetype": "text/x-python",
   "name": "python",
   "nbconvert_exporter": "python",
   "pygments_lexer": "ipython3",
   "version": "3.7.4"
  }
 },
 "nbformat": 4,
 "nbformat_minor": 2
}
