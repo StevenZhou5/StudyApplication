{
 "cells": [
  {
   "cell_type": "code",
   "execution_count": 46,
   "metadata": {},
   "outputs": [
    {
     "data": {
      "text/plain": [
       "<matplotlib.image.AxesImage at 0x14daa2ed0>"
      ]
     },
     "execution_count": 46,
     "metadata": {},
     "output_type": "execute_result"
    },
    {
     "data": {
      "image/png": "[encoded data removed]",
      "text/plain": [
       "<Figure size 432x288 with 1 Axes>"
      ]
     },
     "metadata": {
      "needs_background": "light"
     },
     "output_type": "display_data"
    }
   ],
   "source": [
    "import tensorflow as tf \n",
    "from tensorflow.keras import datasets,layers,optimizers\n",
    "import matplotlib.pyplot as plt\n",
    "import numpy as np\n",
    "\n",
    "#加载\n",
    "(train_image,train_lable),(test_image,test_label) = datasets.fashion_mnist.load_data()\n",
    "#归一化初始数据:如果要进行GPU加速，需要把np的数据转换成tensor的格式\n",
    "train_image = train_image/255\n",
    "test_image = test_image/255\n",
    "\n",
    "# 将lable标签转换成one_hot的向量\n",
    "train_lable = tf.keras.utils.to_categorical(train_lable)\n",
    "test_label = tf.keras.utils.to_categorical(test_label)\n",
    "\n",
    "plt.imshow(train_image[0])"
   ]
  },
  {
   "cell_type": "code",
   "execution_count": 47,
   "metadata": {},
   "outputs": [],
   "source": [
    "train_image = train_image.reshape(train_image.shape[0],train_image.shape[1],train_image.shape[2],1)\n",
    "train_image.shape\n",
    "test_image = test_image.reshape(test_image.shape[0],test_image.shape[1],test_image.shape[2],1)\n"
   ]
  },
  {
   "cell_type": "code",
   "execution_count": 48,
   "metadata": {},
   "outputs": [
    {
     "data": {
      "text/plain": [
       "(60000, 28, 28, 1)"
      ]
     },
     "execution_count": 48,
     "metadata": {},
     "output_type": "execute_result"
    }
   ],
   "source": [
    "train_image.shape\n"
   ]
  },
  {
   "cell_type": "code",
   "execution_count": null,
   "metadata": {},
   "outputs": [
    {
     "name": "stdout",
     "output_type": "stream",
     "text": [
      "Model: \"sequential_18\"\n",
      "_________________________________________________________________\n",
      "Layer (type)                 Output Shape              Param #   \n",
      "=================================================================\n",
      "conv2d_19 (Conv2D)           (None, 28, 28, 32)        160       \n",
      "_________________________________________________________________\n",
      "dropout (Dropout)            (None, 28, 28, 32)        0         \n",
      "_________________________________________________________________\n",
      "max_pooling2d_4 (MaxPooling2 (None, 14, 14, 32)        0         \n",
      "_________________________________________________________________\n",
      "conv2d_20 (Conv2D)           (None, 14, 14, 64)        8256      \n",
      "_________________________________________________________________\n",
      "dropout_1 (Dropout)          (None, 14, 14, 64)        0         \n",
      "_________________________________________________________________\n",
      "max_pooling2d_5 (MaxPooling2 (None, 7, 7, 64)          0         \n",
      "_________________________________________________________________\n",
      "flatten_6 (Flatten)          (None, 3136)              0         \n",
      "_________________________________________________________________\n",
      "dense_36 (Dense)             (None, 128)               401536    \n",
      "_________________________________________________________________\n",
      "dense_37 (Dense)             (None, 10)                1290      \n",
      "=================================================================\n",
      "Total params: 411,242\n",
      "Trainable params: 411,242\n",
      "Non-trainable params: 0\n",
      "_________________________________________________________________\n",
      "Train on 60000 samples, validate on 10000 samples\n",
      "Epoch 1/10\n",
      "60000/60000 [==============================] - 27s 444us/sample - loss: 0.5009 - acc: 0.8178 - val_loss: 0.3619 - val_acc: 0.8824\n",
      "Epoch 2/10\n",
      "60000/60000 [==============================] - 26s 438us/sample - loss: 0.3095 - acc: 0.8875 - val_loss: 0.3177 - val_acc: 0.8877\n",
      "Epoch 3/10\n",
      "60000/60000 [==============================] - 26s 437us/sample - loss: 0.2683 - acc: 0.9009 - val_loss: 0.3095 - val_acc: 0.8815\n",
      "Epoch 4/10\n",
      "60000/60000 [==============================] - 27s 443us/sample - loss: 0.2418 - acc: 0.9102 - val_loss: 0.2642 - val_acc: 0.9042\n",
      "Epoch 5/10\n",
      "60000/60000 [==============================] - 25s 418us/sample - loss: 0.2253 - acc: 0.9150 - val_loss: 0.2504 - val_acc: 0.9114\n",
      "Epoch 6/10\n",
      "39936/60000 [==================>...........] - ETA: 7s - loss: 0.2101 - acc: 0.9214"
     ]
    }
   ],
   "source": [
    "# 建立一个序列model\n",
    "model = tf.keras.Sequential([\n",
    "#     layers.Flatten(input_shape=(28,28)),\n",
    "    layers.Conv2D(32,2,padding='same',input_shape=(28,28,1),activation='relu'),\n",
    "    layers.Dropout(0.2),\n",
    "    layers.MaxPooling2D((2,2),strides=2),\n",
    "    layers.Conv2D(64,2,padding='same',activation='relu'),\n",
    "    layers.Dropout(0.2),\n",
    "    layers.MaxPool2D((2,2),strides=2),\n",
    "    layers.Flatten(), # 这里要把卷积数据打平，不然用卷积执行全连接相当于用一个1*1kernel_size的过滤器做了一次卷积，shape不会改变\n",
    "    layers.Dense(128,activation='relu'),\n",
    "    layers.Dense(10,activation='softmax')\n",
    "])\n",
    "\n",
    "model.summary()\n",
    "\n",
    "# 设置模型的相关超参数\n",
    "optimizer = optimizers.Adam(0.01)\n",
    "model.compile(optimizer=optimizer,loss='categorical_crossentropy',metrics=['acc'])\n",
    "\n",
    "# 模型执行\n",
    "history = model.fit(train_image,train_lable,batch_size=512,epochs=10,validation_data=(test_image,test_label))"
   ]
  },
  {
   "cell_type": "code",
   "execution_count": 56,
   "metadata": {},
   "outputs": [
    {
     "data": {
      "text/plain": [
       "<matplotlib.legend.Legend at 0x14ef2d090>"
      ]
     },
     "execution_count": 56,
     "metadata": {},
     "output_type": "execute_result"
    },
    {
     "data": {
      "image/png": "[encoded data removed]",
      "text/plain": [
       "<Figure size 432x288 with 1 Axes>"
      ]
     },
     "metadata": {
      "needs_background": "light"
     },
     "output_type": "display_data"
    }
   ],
   "source": [
    "plt.plot(history.epoch,history.history['loss'],label='loss')\n",
    "plt.plot(history.epoch,history.history['val_loss'],label='bal_loss')\n",
    "plt.legend()# 显示右上角的指示"
   ]
  },
  {
   "cell_type": "code",
   "execution_count": 57,
   "metadata": {},
   "outputs": [
    {
     "data": {
      "text/plain": [
       "<matplotlib.legend.Legend at 0x14fa63810>"
      ]
     },
     "execution_count": 57,
     "metadata": {},
     "output_type": "execute_result"
    },
    {
     "data": {
      "image/png": "[encoded data removed]",
      "text/plain": [
       "<Figure size 432x288 with 1 Axes>"
      ]
     },
     "metadata": {
      "needs_background": "light"
     },
     "output_type": "display_data"
    }
   ],
   "source": [
    "plt.plot(history.epoch,history.history['acc'],label='acc')\n",
    "plt.plot(history.epoch,history.history['val_acc'],label='val_acc')\n",
    "plt.legend()"
   ]
  },
  {
   "cell_type": "code",
   "execution_count": 100,
   "metadata": {},
   "outputs": [
    {
     "data": {
      "text/plain": [
       "array([0., 0., 0., 0., 1., 0., 0., 0., 0., 0.], dtype=float32)"
      ]
     },
     "execution_count": 100,
     "metadata": {},
     "output_type": "execute_result"
    },
    {
     "data": {
      "image/png": "[encoded data removed]",
      "text/plain": [
       "<Figure size 432x288 with 1 Axes>"
      ]
     },
     "metadata": {
      "needs_background": "light"
     },
     "output_type": "display_data"
    }
   ],
   "source": [
    "test_index = 56\n",
    "plt.imshow(test_image[test_index])\n",
    "test_label[test_index]"
   ]
  },
  {
   "cell_type": "code",
   "execution_count": 101,
   "metadata": {},
   "outputs": [
    {
     "name": "stdout",
     "output_type": "stream",
     "text": [
      "10000/10000 [==============================] - 0s 16us/sample - loss: 0.1331 - acc: 0.9650\n"
     ]
    },
    {
     "data": {
      "text/plain": [
       "4"
      ]
     },
     "execution_count": 101,
     "metadata": {},
     "output_type": "execute_result"
    }
   ],
   "source": [
    "model.evaluate(test_image,test_label)\n",
    "predict = model.predict(test_image)\n",
    "np.argmax(predict[test_index])"
   ]
  },
  {
   "cell_type": "code",
   "execution_count": null,
   "metadata": {},
   "outputs": [],
   "source": []
  }
 ],
 "metadata": {
  "kernelspec": {
   "display_name": "Python 3",
   "language": "python",
   "name": "python3"
  },
  "language_info": {
   "codemirror_mode": {
    "name": "ipython",
    "version": 3
   },
   "file_extension": ".py",
   "mimetype": "text/x-python",
   "name": "python",
   "nbconvert_exporter": "python",
   "pygments_lexer": "ipython3",
   "version": "3.7.4"
  },
  "pycharm": {
   "stem_cell": {
    "cell_type": "raw",
    "metadata": {
     "collapsed": false
    },
    "source": []
   }
  }
 },
 "nbformat": 4,
 "nbformat_minor": 2
}
