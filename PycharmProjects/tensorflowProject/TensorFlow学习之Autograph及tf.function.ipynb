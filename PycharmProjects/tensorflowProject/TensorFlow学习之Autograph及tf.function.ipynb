{
 "cells": [
  {
   "cell_type": "code",
   "execution_count": 52,
   "metadata": {},
   "outputs": [],
   "source": [
    "import tensorflow as tf\n",
    "import numpy as np\n",
    "import time as time\n",
    "\n",
    "# Autograph是一个炫酷的魔法功能，可以让我们使用Python语言直接编辑计算图\n",
    "# tf.function:一个函数如果被tf.function注释，则会被编译成图，但是依然可以按照函数调用\n",
    "# 如果在注释的函数中，有被调用的函数，那么被调用的函数也将以图的模式运行\n",
    "# Eager带来了良好的体验，但是牺牲了效率，Autograph正好可以满足我们对运行效率的需求"
   ]
  },
  {
   "cell_type": "code",
   "execution_count": 25,
   "metadata": {},
   "outputs": [
    {
     "name": "stdout",
     "output_type": "stream",
     "text": [
      "WARNING:tensorflow:Entity <function simple_nn_layer at 0x158215f80> could not be transformed and will be executed as-is. Please report this to the AutoGraph team. When filing the bug, set the verbosity to 10 (on Linux, `export AUTOGRAPH_VERBOSITY=10`) and attach the full output. Cause: converting <function simple_nn_layer at 0x158215f80>: AssertionError: Bad argument number for Name: 3, expecting 4\n",
      "WARNING: Entity <function simple_nn_layer at 0x158215f80> could not be transformed and will be executed as-is. Please report this to the AutoGraph team. When filing the bug, set the verbosity to 10 (on Linux, `export AUTOGRAPH_VERBOSITY=10`) and attach the full output. Cause: converting <function simple_nn_layer at 0x158215f80>: AssertionError: Bad argument number for Name: 3, expecting 4\n"
     ]
    },
    {
     "data": {
      "text/plain": [
       "<tf.Tensor: id=202, shape=(3, 3), dtype=float32, numpy=\n",
       "array([[0.06413528, 0.41690147, 0.7077874 ],\n",
       "       [0.40790594, 0.882764  , 0.7314597 ],\n",
       "       [0.4916146 , 1.1444911 , 1.1236802 ]], dtype=float32)>"
      ]
     },
     "execution_count": 25,
     "metadata": {},
     "output_type": "execute_result"
    }
   ],
   "source": [
    "# 如果不加注释就是一个普通的：<function __main__.simple_nn_layer(x, y)>\n",
    "# 如果加了注释就贬称了一个：<tensorflow.python.eager.def_function.Function at 0x1116b8d50> \n",
    "# 转换成图的形式，那么在运行这个函数时将会用tf优化的算力运算，速度会比原方法要快的多，尤其是针对循环函数\n",
    "@tf.function\n",
    "def simple_nn_layer(x,y): # 将x,y矩阵相乘后在用rele函数激活\n",
    "    return tf.nn.relu(tf.matmul(x,y)) \n",
    "\n",
    "x = tf.random.uniform((3,3),seed=1)\n",
    "y = tf.random.uniform((3,3),seed=1)\n",
    "\n",
    "simple_nn_layer(x,y)"
   ]
  },
  {
   "cell_type": "code",
   "execution_count": 37,
   "metadata": {},
   "outputs": [
    {
     "name": "stdout",
     "output_type": "stream",
     "text": [
      "WARNING:tensorflow:Entity <function deep_net at 0x158215a70> could not be transformed and will be executed as-is. Please report this to the AutoGraph team. When filing the bug, set the verbosity to 10 (on Linux, `export AUTOGRAPH_VERBOSITY=10`) and attach the full output. Cause: converting <function deep_net at 0x158215a70>: AssertionError: Bad argument number for Name: 3, expecting 4\n",
      "WARNING: Entity <function deep_net at 0x158215a70> could not be transformed and will be executed as-is. Please report this to the AutoGraph team. When filing the bug, set the verbosity to 10 (on Linux, `export AUTOGRAPH_VERBOSITY=10`) and attach the full output. Cause: converting <function deep_net at 0x158215a70>: AssertionError: Bad argument number for Name: 3, expecting 4\n"
     ]
    },
    {
     "data": {
      "text/plain": [
       "<tf.Tensor: id=209, shape=(), dtype=int32, numpy=22>"
      ]
     },
     "execution_count": 37,
     "metadata": {},
     "output_type": "execute_result"
    }
   ],
   "source": [
    "# 如果在注释的函数中，有被调用的函数，那么被调用的函数也将以图的模式运行\n",
    "def liner_layer(x):\n",
    "    return 2*x +1 \n",
    "\n",
    "@tf.function\n",
    "def deep_net(x):\n",
    "    return 2*(liner_layer(x))\n",
    "\n",
    "deep_net(5)"
   ]
  },
  {
   "cell_type": "code",
   "execution_count": 75,
   "metadata": {},
   "outputs": [
    {
     "name": "stdout",
     "output_type": "stream",
     "text": [
      "1570288326.211812\n",
      "1570288326.345452\n"
     ]
    }
   ],
   "source": [
    "# @tf.function\n",
    "def add_inv_100(a):\n",
    "    for i in range(100):\n",
    "        a = np.linalg.inv(a+i)\n",
    "    return a\n",
    "\n",
    "a = np.random.randn(100,100)\n",
    "print(time.time())\n",
    "add_inv_100(a)\n",
    "print(time.time())"
   ]
  },
  {
   "cell_type": "code",
   "execution_count": 74,
   "metadata": {},
   "outputs": [
    {
     "data": {
      "text/plain": [
       "(100, 100)"
      ]
     },
     "execution_count": 74,
     "metadata": {},
     "output_type": "execute_result"
    }
   ],
   "source": [
    "a.shape"
   ]
  },
  {
   "cell_type": "code",
   "execution_count": null,
   "metadata": {},
   "outputs": [],
   "source": []
  }
 ],
 "metadata": {
  "kernelspec": {
   "display_name": "Python 3",
   "language": "python",
   "name": "python3"
  },
  "language_info": {
   "codemirror_mode": {
    "name": "ipython",
    "version": 3
   },
   "file_extension": ".py",
   "mimetype": "text/x-python",
   "name": "python",
   "nbconvert_exporter": "python",
   "pygments_lexer": "ipython3",
   "version": "3.7.4"
  }
 },
 "nbformat": 4,
 "nbformat_minor": 2
}
