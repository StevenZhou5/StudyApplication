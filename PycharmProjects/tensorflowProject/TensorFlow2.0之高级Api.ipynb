{
 "cells": [
  {
   "cell_type": "code",
   "execution_count": 1,
   "metadata": {},
   "outputs": [],
   "source": [
    "#https://www.tensorflow.org/learn?hl=zh-cn\n",
    "# TensorFlow2.0中高级API全部整合到tf.keras仓库下了，因此我们要查找高级Api就去tf.kears仓库下找\n",
    "# 主要API模块有一下：\n",
    "# activations: 包含当前主流的激活函数，可以直接通过该API进行激活函数的调用\n",
    "# applications: 模块中是已经进行预训练好的神经网络模型，可以直接进行使用或者进行迁移学习\n",
    "# backend: 包含了keras后台的一些基础API接口，用于实现高级的API或者自己构建神经网络\n",
    "# datasets: 包含了常用的公开数据训练及，可以直接进行使用(需要翻墙，或下载好放到.keras/datasets目录下),有CIFAR100,Boston Housing等\n",
    "# layers：包含众多的神经网络层接口,可以通过直接调用API的方式实现不同的网络层结构\n",
    "# losses: 包含了常用的损失函数，可以根据实际的需求直接进行调用\n",
    "# optimizers：包含主流的优化器（如ADAM）\n",
    "# preprocessing:包含了数据处理的一些方法，分为图片数据处理，语言序列处理，文本数据处理等：比如NLP常用的pad_sequences等\n",
    "# regularizers:包含了常用的正则化方法，包括L1，L2正则化方法\n",
    "# wrappers:是一个keras模型的包装器，当我们需要进行跨框架迁移时，可以使用该API接口提供与其他框架的兼容性"
   ]
  },
  {
   "cell_type": "code",
   "execution_count": null,
   "metadata": {},
   "outputs": [],
   "source": []
  }
 ],
 "metadata": {
  "kernelspec": {
   "display_name": "Python 3",
   "language": "python",
   "name": "python3"
  },
  "language_info": {
   "codemirror_mode": {
    "name": "ipython",
    "version": 3
   },
   "file_extension": ".py",
   "mimetype": "text/x-python",
   "name": "python",
   "nbconvert_exporter": "python",
   "pygments_lexer": "ipython3",
   "version": "3.7.4"
  }
 },
 "nbformat": 4,
 "nbformat_minor": 2
}
