{
 "cells": [
  {
   "cell_type": "code",
   "execution_count": 1,
   "metadata": {},
   "outputs": [
    {
     "name": "stdout",
     "output_type": "stream",
     "text": [
      "PyTorch Version: 1.3.0.post2\n"
     ]
    }
   ],
   "source": [
    "import numpy as np\n",
    "import torch\n",
    "import torch.nn as nn\n",
    "import torch.nn.functional as F\n",
    "import torch.optim as optim\n",
    "from torchvision import datasets,transforms\n",
    "print(\"PyTorch Version:\",torch.__version__)"
   ]
  },
  {
   "cell_type": "markdown",
   "metadata": {},
   "source": [
    "# 在做图片识别的时经常会用到Batch Norm\n",
    "![Image1](../common/images/5-pytorch01.png) "
   ]
  },
  {
   "cell_type": "code",
   "execution_count": 2,
   "metadata": {},
   "outputs": [],
   "source": [
    "class Net(nn.Module):\n",
    "    def __init__(self):\n",
    "        super(Net,self).__init__()\n",
    "        self.conv1 = nn.Conv2d(in_channels=1,out_channels=20,kernel_size=5,stride=1)\n",
    "        self.conv2 = nn.Conv2d(20,50,5,1)\n",
    "        self.fc1 = nn.Linear(4*4*50,500) # 池化后的第一层全连接\n",
    "        self.fc2 = nn.Linear(500,10) # 第二层全连接:0-9的10种数字的分类\n",
    "    \n",
    "    def forward(self,x):\n",
    "        # x 是一张1*28*28的手写数字\n",
    "        x = F.relu(self.conv1(x)) # [24*24]：28-5+1=24\n",
    "        x = F.max_pool2d(x,kernel_size=2,stride=2) # [12*12]：(24-2)/2 +1 =12\n",
    "        x = F.relu(self.conv2(x)) # [8*8]: 12-5+1 =8\n",
    "        x = F.max_pool2d(x,2,2) # [4*4]: \n",
    "        # reshape一下\n",
    "        x = x.view(-1,4*4*50)\n",
    "        x = self.fc1(x)\n",
    "        x = self.fc2(x)\n",
    "        \n",
    "        return F.log_softmax(x,dim=1)\n",
    "        "
   ]
  },
  {
   "cell_type": "code",
   "execution_count": 3,
   "metadata": {},
   "outputs": [
    {
     "data": {
      "text/plain": [
       "Dataset MNIST\n",
       "    Number of datapoints: 60000\n",
       "    Root location: /Users/zhenwuzhou/AiProject/data/mnist_data\n",
       "    Split: Train\n",
       "    StandardTransform\n",
       "Transform: Compose(\n",
       "               ToTensor()\n",
       "           )"
      ]
     },
     "execution_count": 3,
     "metadata": {},
     "output_type": "execute_result"
    }
   ],
   "source": [
    "mnist_data = datasets.MNIST(root=\"/Users/zhenwuzhou/AiProject/data/mnist_data\",train=True, download=True,\n",
    "                            transform=transforms.Compose([\n",
    "                                transforms.ToTensor(), # 把图片转换成tensor\n",
    "                            ]))\n",
    "mnist_data"
   ]
  },
  {
   "cell_type": "code",
   "execution_count": 4,
   "metadata": {},
   "outputs": [
    {
     "data": {
      "text/plain": [
       "torch.Size([1, 28, 28])"
      ]
     },
     "execution_count": 4,
     "metadata": {},
     "output_type": "execute_result"
    }
   ],
   "source": [
    "mnist_data[233][0].shape"
   ]
  },
  {
   "cell_type": "code",
   "execution_count": 28,
   "metadata": {},
   "outputs": [
    {
     "data": {
      "text/plain": [
       "3.0"
      ]
     },
     "execution_count": 28,
     "metadata": {},
     "output_type": "execute_result"
    }
   ],
   "source": [
    "np.mean([2.,3.,4.])  # 计算平均值操作"
   ]
  },
  {
   "cell_type": "code",
   "execution_count": 25,
   "metadata": {},
   "outputs": [
    {
     "data": {
      "text/plain": [
       "0.13066062"
      ]
     },
     "execution_count": 25,
     "metadata": {},
     "output_type": "execute_result"
    }
   ],
   "source": [
    "# 把mnist_data中的图片（d[0]是图片，d[1]是标签）都拿出来转换成numpy\n",
    "data = [d[0].data.cpu().numpy() for d in mnist_data]\n",
    "np.mean(data) # 计算出所有像素的平均值"
   ]
  },
  {
   "cell_type": "code",
   "execution_count": 30,
   "metadata": {},
   "outputs": [
    {
     "data": {
      "text/plain": [
       "0.816496580927726"
      ]
     },
     "execution_count": 30,
     "metadata": {},
     "output_type": "execute_result"
    }
   ],
   "source": [
    "np.std([2.,3.,4.]) # 是标准差，方式开根号，方差是2/3 = 0.6666666"
   ]
  },
  {
   "cell_type": "code",
   "execution_count": 29,
   "metadata": {},
   "outputs": [
    {
     "data": {
      "text/plain": [
       "0.30810776"
      ]
     },
     "execution_count": 29,
     "metadata": {},
     "output_type": "execute_result"
    }
   ],
   "source": [
    "np.std(data) # 标准差"
   ]
  },
  {
   "cell_type": "code",
   "execution_count": 34,
   "metadata": {},
   "outputs": [],
   "source": [
    "def train(model,device,train_loader,optimizer,epoch):\n",
    "    model.train()\n",
    "    for idx,(data,target) in enumerate(train_loader):\n",
    "        data,target = data.to(device), target.to(device)\n",
    "        \n",
    "        pred = model(data) # batch_size*10\n",
    "        \n",
    "        # 定义代价函数：target是一个数字，这个loss就是直接把target对应数字上的那个pred的值取出来;\n",
    "        # 因为我们的模型返回的log_softmax(x)结果，相当于把0-1的那个概率值用指数函数log了一下\n",
    "        # 损失值是[-inf, 0)\n",
    "        # a Tensor of the same dimension and shape as the input with values in the range [-inf, 0)\n",
    "        loss = F.nll_loss(pred,target) \n",
    "        \n",
    "        # 反向传播backward\n",
    "        optimizer.zero_grad()\n",
    "        loss.backward()\n",
    "        \n",
    "        #GD\n",
    "        optimizer.step()\n",
    "        \n",
    "        if idx % 100 ==0:\n",
    "            print(\"Train Epoch：{}, iteration:{},Loss:{}\".format(epoch,idx,loss.item()))\n",
    "        "
   ]
  },
  {
   "cell_type": "code",
   "execution_count": 52,
   "metadata": {},
   "outputs": [],
   "source": [
    "def test(model,device,test_loader):\n",
    "    model.eval()\n",
    "    total_loss = 0.\n",
    "    correct = 0.\n",
    "    with torch.no_grad():\n",
    "        for idx,(data,target) in enumerate(test_loader):\n",
    "            data,target = data.to(device), target.to(device)\n",
    "        \n",
    "            pred = model(data) # batch_size*10\n",
    "            total_loss = F.nll_loss(pred,target,reduction=\"sum\").item() \n",
    "            \n",
    "            correctPred = pred.argmax(dim=1) # batch_size*1\n",
    "            correct += correctPred.eq(target.view_as(correctPred)).sum().item() # 计算正确数\n",
    "            \n",
    "    model.train()\n",
    "        \n",
    "    total_loss /= len(test_loader.dataset)\n",
    "    acc = correct/len(test_loader.dataset)*100\n",
    "    print(\"Test loss：{}, Accuracy:{}\".format(total_loss,acc))"
   ]
  },
  {
   "cell_type": "code",
   "execution_count": 53,
   "metadata": {},
   "outputs": [
    {
     "name": "stdout",
     "output_type": "stream",
     "text": [
      "Train Epoch：0, iteration:0,Loss:2.3033761978149414\n",
      "Train Epoch：0, iteration:100,Loss:0.5190887451171875\n",
      "Train Epoch：0, iteration:200,Loss:0.2233976423740387\n",
      "Train Epoch：0, iteration:300,Loss:0.17817017436027527\n",
      "Train Epoch：0, iteration:400,Loss:0.14404480159282684\n",
      "Train Epoch：0, iteration:500,Loss:0.10768669098615646\n",
      "Train Epoch：0, iteration:600,Loss:0.14255644381046295\n",
      "Train Epoch：0, iteration:700,Loss:0.09527770429849625\n",
      "Train Epoch：0, iteration:800,Loss:0.4986037611961365\n",
      "Train Epoch：0, iteration:900,Loss:0.22145932912826538\n",
      "Train Epoch：0, iteration:1000,Loss:0.057534463703632355\n",
      "Train Epoch：0, iteration:1100,Loss:0.026500415056943893\n",
      "Train Epoch：0, iteration:1200,Loss:0.26053687930107117\n",
      "Train Epoch：0, iteration:1300,Loss:0.3006894290447235\n",
      "Train Epoch：0, iteration:1400,Loss:0.1352003812789917\n",
      "Train Epoch：0, iteration:1500,Loss:0.09746439009904861\n",
      "Train Epoch：0, iteration:1600,Loss:0.08620873093605042\n",
      "Train Epoch：0, iteration:1700,Loss:0.14847563207149506\n",
      "Train Epoch：0, iteration:1800,Loss:0.05594176426529884\n",
      "Test loss：8.890584707260132e-05, Accuracy:97.76\n",
      "Train Epoch：1, iteration:0,Loss:0.02583443559706211\n",
      "Train Epoch：1, iteration:100,Loss:0.022909387946128845\n",
      "Train Epoch：1, iteration:200,Loss:0.015450241975486279\n",
      "Train Epoch：1, iteration:300,Loss:0.042352382093667984\n",
      "Train Epoch：1, iteration:400,Loss:0.024085633456707\n",
      "Train Epoch：1, iteration:500,Loss:0.12440226227045059\n",
      "Train Epoch：1, iteration:600,Loss:0.017814531922340393\n",
      "Train Epoch：1, iteration:700,Loss:0.029886556789278984\n",
      "Train Epoch：1, iteration:800,Loss:0.2564551830291748\n",
      "Train Epoch：1, iteration:900,Loss:0.24588121473789215\n",
      "Train Epoch：1, iteration:1000,Loss:0.10723007470369339\n",
      "Train Epoch：1, iteration:1100,Loss:0.0388357974588871\n"
     ]
    },
    {
     "ename": "KeyboardInterrupt",
     "evalue": "",
     "output_type": "error",
     "traceback": [
      "\u001b[0;31m---------------------------------------------------------------------------\u001b[0m",
      "\u001b[0;31mKeyboardInterrupt\u001b[0m                         Traceback (most recent call last)",
      "\u001b[0;32m<ipython-input-53-5fa9061bcbd0>\u001b[0m in \u001b[0;36m<module>\u001b[0;34m\u001b[0m\n\u001b[1;32m     28\u001b[0m \u001b[0mnum_epochs\u001b[0m \u001b[0;34m=\u001b[0m \u001b[0;36m2\u001b[0m\u001b[0;34m\u001b[0m\u001b[0;34m\u001b[0m\u001b[0m\n\u001b[1;32m     29\u001b[0m \u001b[0;32mfor\u001b[0m \u001b[0mepoch\u001b[0m \u001b[0;32min\u001b[0m \u001b[0mrange\u001b[0m\u001b[0;34m(\u001b[0m\u001b[0mnum_epochs\u001b[0m\u001b[0;34m)\u001b[0m\u001b[0;34m:\u001b[0m\u001b[0;34m\u001b[0m\u001b[0;34m\u001b[0m\u001b[0m\n\u001b[0;32m---> 30\u001b[0;31m     \u001b[0mtrain\u001b[0m\u001b[0;34m(\u001b[0m\u001b[0mmodel\u001b[0m\u001b[0;34m,\u001b[0m\u001b[0mdevice\u001b[0m\u001b[0;34m,\u001b[0m\u001b[0mtrain_dataloader\u001b[0m\u001b[0;34m,\u001b[0m\u001b[0moptimizer\u001b[0m\u001b[0;34m,\u001b[0m\u001b[0mepoch\u001b[0m\u001b[0;34m)\u001b[0m\u001b[0;34m\u001b[0m\u001b[0;34m\u001b[0m\u001b[0m\n\u001b[0m\u001b[1;32m     31\u001b[0m     \u001b[0mtest\u001b[0m\u001b[0;34m(\u001b[0m\u001b[0mmodel\u001b[0m\u001b[0;34m,\u001b[0m\u001b[0mdevice\u001b[0m\u001b[0;34m,\u001b[0m\u001b[0mtest_dataloader\u001b[0m\u001b[0;34m)\u001b[0m\u001b[0;34m\u001b[0m\u001b[0;34m\u001b[0m\u001b[0m\n\u001b[1;32m     32\u001b[0m \u001b[0;34m\u001b[0m\u001b[0m\n",
      "\u001b[0;32m<ipython-input-34-db243f6ce07b>\u001b[0m in \u001b[0;36mtrain\u001b[0;34m(model, device, train_loader, optimizer, epoch)\u001b[0m\n\u001b[1;32m     14\u001b[0m         \u001b[0;31m# 反向传播backward\u001b[0m\u001b[0;34m\u001b[0m\u001b[0;34m\u001b[0m\u001b[0;34m\u001b[0m\u001b[0m\n\u001b[1;32m     15\u001b[0m         \u001b[0moptimizer\u001b[0m\u001b[0;34m.\u001b[0m\u001b[0mzero_grad\u001b[0m\u001b[0;34m(\u001b[0m\u001b[0;34m)\u001b[0m\u001b[0;34m\u001b[0m\u001b[0;34m\u001b[0m\u001b[0m\n\u001b[0;32m---> 16\u001b[0;31m         \u001b[0mloss\u001b[0m\u001b[0;34m.\u001b[0m\u001b[0mbackward\u001b[0m\u001b[0;34m(\u001b[0m\u001b[0;34m)\u001b[0m\u001b[0;34m\u001b[0m\u001b[0;34m\u001b[0m\u001b[0m\n\u001b[0m\u001b[1;32m     17\u001b[0m \u001b[0;34m\u001b[0m\u001b[0m\n\u001b[1;32m     18\u001b[0m         \u001b[0;31m#GD\u001b[0m\u001b[0;34m\u001b[0m\u001b[0;34m\u001b[0m\u001b[0;34m\u001b[0m\u001b[0m\n",
      "\u001b[0;32m/Library/Frameworks/Python.framework/Versions/3.7/lib/python3.7/site-packages/torch/tensor.py\u001b[0m in \u001b[0;36mbackward\u001b[0;34m(self, gradient, retain_graph, create_graph)\u001b[0m\n\u001b[1;32m    148\u001b[0m                 \u001b[0mproducts\u001b[0m\u001b[0;34m.\u001b[0m \u001b[0mDefaults\u001b[0m \u001b[0mto\u001b[0m\u001b[0;31m \u001b[0m\u001b[0;31m`\u001b[0m\u001b[0;31m`\u001b[0m\u001b[0;32mFalse\u001b[0m\u001b[0;31m`\u001b[0m\u001b[0;31m`\u001b[0m\u001b[0;34m.\u001b[0m\u001b[0;34m\u001b[0m\u001b[0;34m\u001b[0m\u001b[0m\n\u001b[1;32m    149\u001b[0m         \"\"\"\n\u001b[0;32m--> 150\u001b[0;31m         \u001b[0mtorch\u001b[0m\u001b[0;34m.\u001b[0m\u001b[0mautograd\u001b[0m\u001b[0;34m.\u001b[0m\u001b[0mbackward\u001b[0m\u001b[0;34m(\u001b[0m\u001b[0mself\u001b[0m\u001b[0;34m,\u001b[0m \u001b[0mgradient\u001b[0m\u001b[0;34m,\u001b[0m \u001b[0mretain_graph\u001b[0m\u001b[0;34m,\u001b[0m \u001b[0mcreate_graph\u001b[0m\u001b[0;34m)\u001b[0m\u001b[0;34m\u001b[0m\u001b[0;34m\u001b[0m\u001b[0m\n\u001b[0m\u001b[1;32m    151\u001b[0m \u001b[0;34m\u001b[0m\u001b[0m\n\u001b[1;32m    152\u001b[0m     \u001b[0;32mdef\u001b[0m \u001b[0mregister_hook\u001b[0m\u001b[0;34m(\u001b[0m\u001b[0mself\u001b[0m\u001b[0;34m,\u001b[0m \u001b[0mhook\u001b[0m\u001b[0;34m)\u001b[0m\u001b[0;34m:\u001b[0m\u001b[0;34m\u001b[0m\u001b[0;34m\u001b[0m\u001b[0m\n",
      "\u001b[0;32m/Library/Frameworks/Python.framework/Versions/3.7/lib/python3.7/site-packages/torch/autograd/__init__.py\u001b[0m in \u001b[0;36mbackward\u001b[0;34m(tensors, grad_tensors, retain_graph, create_graph, grad_variables)\u001b[0m\n\u001b[1;32m     97\u001b[0m     Variable._execution_engine.run_backward(\n\u001b[1;32m     98\u001b[0m         \u001b[0mtensors\u001b[0m\u001b[0;34m,\u001b[0m \u001b[0mgrad_tensors\u001b[0m\u001b[0;34m,\u001b[0m \u001b[0mretain_graph\u001b[0m\u001b[0;34m,\u001b[0m \u001b[0mcreate_graph\u001b[0m\u001b[0;34m,\u001b[0m\u001b[0;34m\u001b[0m\u001b[0;34m\u001b[0m\u001b[0m\n\u001b[0;32m---> 99\u001b[0;31m         allow_unreachable=True)  # allow_unreachable flag\n\u001b[0m\u001b[1;32m    100\u001b[0m \u001b[0;34m\u001b[0m\u001b[0m\n\u001b[1;32m    101\u001b[0m \u001b[0;34m\u001b[0m\u001b[0m\n",
      "\u001b[0;31mKeyboardInterrupt\u001b[0m: "
     ]
    }
   ],
   "source": [
    "device = torch.device(\"cuda\" if torch.cuda.is_available() else \"cpu\")\n",
    "batch_size = 32\n",
    "train_dataloader = torch.utils.data.DataLoader(\n",
    "    datasets.MNIST(\"/Users/zhenwuzhou/AiProject/data/mnist_data\",train=True,download=False,\n",
    "                  transform=transforms.Compose([\n",
    "                      transforms.ToTensor(),\n",
    "                      transforms.Normalize(mean=(0.1307,),std=(0.3081,)),#对像素进行标准化\n",
    "                  ])),\n",
    "    batch_size = batch_size,shuffle=True,\n",
    "    num_workers = 1,pin_memory=True\n",
    ")\n",
    "\n",
    "test_dataloader = torch.utils.data.DataLoader(\n",
    "    datasets.MNIST(\"/Users/zhenwuzhou/AiProject/data/mnist_data\",train=False,download=False,\n",
    "                  transform=transforms.Compose([\n",
    "                      transforms.ToTensor(),\n",
    "                      transforms.Normalize(mean=(0.1307,),std=(0.3081,))\n",
    "                  ])),\n",
    "    batch_size = batch_size,shuffle=True,\n",
    "    num_workers = 1,pin_memory=True\n",
    ")\n",
    "\n",
    "lr =0.01\n",
    "momentum = 0.5\n",
    "model = Net().to(device)\n",
    "optimizer = torch.optim.SGD(model.parameters(),lr=lr,momentum=momentum)\n",
    "\n",
    "num_epochs = 2\n",
    "for epoch in range(num_epochs):\n",
    "    train(model,device,train_dataloader,optimizer,epoch)\n",
    "    test(model,device,test_dataloader)\n",
    "\n",
    "torch.save(model.state_dict(),\"/Users/zhenwuzhou/.keras/models/PytrochCNN/1model_dict.pth\")\n",
    "torch.save(model,\"/Users/zhenwuzhou/.keras/models/PytrochCNN/1model.pth\")"
   ]
  },
  {
   "cell_type": "code",
   "execution_count": null,
   "metadata": {},
   "outputs": [],
   "source": []
  }
 ],
 "metadata": {
  "kernelspec": {
   "display_name": "Python 3",
   "language": "python",
   "name": "python3"
  },
  "language_info": {
   "codemirror_mode": {
    "name": "ipython",
    "version": 3
   },
   "file_extension": ".py",
   "mimetype": "text/x-python",
   "name": "python",
   "nbconvert_exporter": "python",
   "pygments_lexer": "ipython3",
   "version": "3.7.4"
  }
 },
 "nbformat": 4,
 "nbformat_minor": 2
}
