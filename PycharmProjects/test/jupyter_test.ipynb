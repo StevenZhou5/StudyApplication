{
 "cells": [
  {
   "cell_type": "code",
   "execution_count": 1,
   "metadata": {},
   "outputs": [
    {
     "name": "stdout",
     "output_type": "stream",
     "text": [
      "hello jupyter \n"
     ]
    }
   ],
   "source": [
    "import numpy as np\n",
    "print(\"hello jupyter \")\n"
   ]
  },
  {
   "cell_type": "code",
   "execution_count": 2,
   "metadata": {},
   "outputs": [
    {
     "name": "stdout",
     "output_type": "stream",
     "text": [
      "[[1 0 0 1]]\n",
      "2\n"
     ]
    }
   ],
   "source": [
    "import numpy as np\n",
    "\n",
    "A = np.array([[0,1,0,1]])\n",
    "B = np.array([[1,1,0,0]])\n",
    "C = A^B\n",
    "print(C)\n",
    "print(np.sum(C))"
   ]
  },
  {
   "cell_type": "code",
   "execution_count": 23,
   "metadata": {},
   "outputs": [
    {
     "name": "stdout",
     "output_type": "stream",
     "text": [
      "[[7. 8. 4. 1.]]\n"
     ]
    }
   ],
   "source": [
    "A = np.round(np.random.random((1,4))*10)\n",
    "print(A)"
   ]
  },
  {
   "cell_type": "code",
   "execution_count": 63,
   "metadata": {},
   "outputs": [
    {
     "name": "stdout",
     "output_type": "stream",
     "text": [
      "0 2\n",
      "[[1. 0. 1. 0.]]\n"
     ]
    }
   ],
   "source": [
    "print(round(0.5),round(1.5)) # round虽然是4舍5入，但是要看5前面是偶数还是奇数，如果是偶数等于5被舍去，如果是奇数等于5被进1\n",
    "A = np.round(np.array([[0.7,0.2,0.5,0.44]])+1)-1 # 所以（0，1）之间的值想让它等于5的时候进位，可以先+1后-1\n",
    "print(A)"
   ]
  },
  {
   "cell_type": "code",
   "execution_count": 10,
   "metadata": {},
   "outputs": [
    {
     "name": "stdout",
     "output_type": "stream",
     "text": [
      "[[1 0 1 0]]\n"
     ]
    }
   ],
   "source": [
    "A = np.array([[0.7,0.2,0.5,0.44]])+0.5\n",
    "print(A.astype(int)) # 如果要把矩阵取整，就要用这种方式"
   ]
  },
  {
   "cell_type": "code",
   "execution_count": 58,
   "metadata": {},
   "outputs": [
    {
     "name": "stdout",
     "output_type": "stream",
     "text": [
      "11\n"
     ]
    }
   ],
   "source": [
    "A= int(44.5) >> 2 # 移为运算只对整数有效\n",
    "print(A)"
   ]
  },
  {
   "cell_type": "code",
   "execution_count": 63,
   "metadata": {},
   "outputs": [
    {
     "name": "stdout",
     "output_type": "stream",
     "text": [
      "0.49383997917175293\n",
      "0.7984409332275391\n"
     ]
    }
   ],
   "source": [
    "import time as time\n",
    "#ReLU函数测试\n",
    "A = np.random.random((100000000,1))\n",
    "time1 = time.time()\n",
    "B = np.maximum(0,A) # 这种方式效率更快\n",
    "time2 = time.time()\n",
    "C = (A+np.abs(A))/2\n",
    "time3 = time.time()\n",
    "print(time2-time1)\n",
    "print(time3-time2)"
   ]
  },
  {
   "cell_type": "code",
   "execution_count": 76,
   "metadata": {},
   "outputs": [
    {
     "name": "stdout",
     "output_type": "stream",
     "text": [
      "[[0. 0.]\n",
      " [1. 1.]]\n"
     ]
    }
   ],
   "source": [
    "#测试对ReLU函数求导\n",
    "A= np.array([[-0.7,-0.2],[2,3]])\n",
    "A[A>=0] = 1\n",
    "A[A<0] = 0\n",
    "B = A\n",
    "print(B)"
   ]
  },
  {
   "cell_type": "code",
   "execution_count": 31,
   "metadata": {},
   "outputs": [
    {
     "name": "stdout",
     "output_type": "stream",
     "text": [
      "[[0.49   0.04   0.25   0.1936]]\n"
     ]
    }
   ],
   "source": [
    "A = np.array([[0.7,0.2,0.5,0.44]])\n",
    "B = np.array([[0.7,0.2,0.5,0.44]])\n",
    "print(A*B)"
   ]
  },
  {
   "cell_type": "code",
   "execution_count": 47,
   "metadata": {},
   "outputs": [
    {
     "name": "stdout",
     "output_type": "stream",
     "text": [
      "(1, 4)\n"
     ]
    }
   ],
   "source": [
    "# assert测试：（断言\n",
    "a = (1,2,3,4)\n",
    "assert len(a) == 4\n",
    "A = np.array([[0.7,0.2,0.5,0.44]])\n",
    "print(A.shape)\n",
    "assert A.shape ==(1,4) "
   ]
  },
  {
   "cell_type": "code",
   "execution_count": 9,
   "metadata": {},
   "outputs": [
    {
     "name": "stdout",
     "output_type": "stream",
     "text": [
      "[[0.7 0.2]\n",
      " [4.  6. ]]\n",
      "[[0.7 0.2]\n",
      " [4.  6. ]]\n",
      "[[1.1 1.1]\n",
      " [8.  8. ]]\n",
      "[[0.7 0.2]\n",
      " [4.  6. ]]\n",
      "[[0.07 0.02]\n",
      " [0.2  0.3 ]]\n",
      "0.7\n"
     ]
    }
   ],
   "source": [
    "# * 与 np.multiply 的对比\n",
    "A = np.array([[0.7,0.2],[2,3]])\n",
    "B = np.array([[1,1],[2,2]])\n",
    "#如果都是数组，A*B = np.multiply(A,B)\n",
    "print(A*B)\n",
    "print(np.multiply(A,B))\n",
    "\n",
    "#如果把A和B转换成矩阵\n",
    "matA = np.mat(A)\n",
    "matB = np.mat(B)\n",
    "print(matA*matB) # 变成了矩阵乘法运算\n",
    "print(np.multiply(matA,matB)) # 仍然是对应位置相乘\n",
    "\n",
    "print(0.1*matA)\n",
    "print(A[0][0])"
   ]
  },
  {
   "cell_type": "code",
   "execution_count": 61,
   "metadata": {},
   "outputs": [
    {
     "name": "stdout",
     "output_type": "stream",
     "text": [
      "[[0.49 0.04]\n",
      " [4.   9.  ]]\n"
     ]
    }
   ],
   "source": [
    "# np.power对每一个元素单独求次方\n",
    "A = np.array([[0.7,0.2],[2,3]])\n",
    "print(np.power(A,2))"
   ]
  },
  {
   "cell_type": "code",
   "execution_count": 83,
   "metadata": {},
   "outputs": [
    {
     "name": "stdout",
     "output_type": "stream",
     "text": [
      "[[-0.875      -1.        ]\n",
      " [-3.33333333 -6.        ]]\n",
      "[[ 1.5  1. ]\n",
      " [-2.5 -4. ]]\n",
      "[[  0.625        0.        ]\n",
      " [ -5.83333333 -10.        ]]\n"
     ]
    }
   ],
   "source": [
    "#逻辑回归最终代价函数关于第L层输出的偏导dAL\n",
    "TrainY = np.array([[0.7,0.2],[2,3]])\n",
    "A2 = np.array([[0.8,0.2],[0.6,0.5]])\n",
    "R1 = np.divide(-TrainY, A2)\n",
    "R2 = np.divide(1 - TrainY, 1 - A2)\n",
    "print(R1)\n",
    "print(R2)\n",
    "print(R1+R2)"
   ]
  },
  {
   "cell_type": "code",
   "execution_count": 7,
   "metadata": {},
   "outputs": [
    {
     "name": "stdout",
     "output_type": "stream",
     "text": [
      "[0.7  0.2  0.5  0.44]\n"
     ]
    }
   ],
   "source": [
    "A = np.array([[0.7,0.2,0.5,0.44]])\n",
    "B = np.array([[0.7,0.2,0.5,0.44]])\n",
    "assert A.shape == B.shape\n",
    "print(A[0])"
   ]
  },
  {
   "cell_type": "code",
   "execution_count": 10,
   "metadata": {},
   "outputs": [
    {
     "name": "stdout",
     "output_type": "stream",
     "text": [
      "[[5.]\n",
      " [5.]]\n",
      "[[ 0.   0.6  0.8]\n",
      " [-0.6  0.   0.8]]\n"
     ]
    }
   ],
   "source": [
    "#Normalizing rows 规范化行向量，规范化可以使得所有值的取值在（-1，1）之间，方便梯度递减的更快\n",
    "A = np.array([[0,3,4],[-3,0,4]])\n",
    "B = np.linalg.norm(A,axis=1,keepdims=True)\n",
    "C = A/B\n",
    "print(B)\n",
    "print(C)"
   ]
  },
  {
   "cell_type": "code",
   "execution_count": 4,
   "metadata": {},
   "outputs": [
    {
     "name": "stdout",
     "output_type": "stream",
     "text": [
      "[[0 1 0 1 5]\n",
      " [2 5 7 6 8]\n",
      " [3 1 4 7 6]]\n"
     ]
    }
   ],
   "source": [
    "A = np.array([[0,1,0,1,5],\n",
    "              [2,5,7,6,8],\n",
    "              [3,1,4,7,6]])\n",
    "AX_23 = np.zer\n",
    "print(A)"
   ]
  },
  {
   "cell_type": "code",
   "execution_count": null,
   "metadata": {},
   "outputs": [],
   "source": []
  }
 ],
 "metadata": {
  "kernelspec": {
   "display_name": "Python 3",
   "language": "python",
   "name": "python3"
  },
  "language_info": {
   "codemirror_mode": {
    "name": "ipython",
    "version": 3
   },
   "file_extension": ".py",
   "mimetype": "text/x-python",
   "name": "python",
   "nbconvert_exporter": "python",
   "pygments_lexer": "ipython3",
   "version": "3.7.4"
  },
  "pycharm": {
   "stem_cell": {
    "cell_type": "raw",
    "metadata": {
     "collapsed": false
    },
    "source": []
   }
  }
 },
 "nbformat": 4,
 "nbformat_minor": 1
}
