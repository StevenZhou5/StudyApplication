{
 "cells": [
  {
   "cell_type": "code",
   "execution_count": 1,
   "metadata": {},
   "outputs": [],
   "source": [
    "import numpy as np\n",
    "import pandas as pd\n",
    "import tensorflow as tf \n",
    "import matplotlib.pyplot as plt\n",
    "from tensorflow import keras\n",
    "from tensorflow.keras import layers\n",
    "\n",
    "from sklearn.model_selection import train_test_split"
   ]
  },
  {
   "cell_type": "code",
   "execution_count": 60,
   "metadata": {},
   "outputs": [],
   "source": [
    "A = [0,1,2,3,4,5,6,7,8,9,10]\n",
    "B = [0,1,2,3,4,5,6,7,8,9,10]\n",
    "C = [\n",
    "    [0,0],\n",
    "    [1,1],\n",
    "    [2,2],\n",
    "    [3,3],\n",
    "    [4,4],\n",
    "    [5,5],\n",
    "    [6,6],\n",
    "    [7,7],\n",
    "    [8,8],\n",
    "    [9,9],\n",
    "    [10,10]\n",
    "]"
   ]
  },
  {
   "cell_type": "code",
   "execution_count": 61,
   "metadata": {},
   "outputs": [],
   "source": [
    "random_state = 666 # 只要random_state一直，每次初始化的位置都是固定的，\n",
    "trainA,testA = train_test_split(A,test_size=2,random_state=random_state,shuffle=True)\n",
    "trainB,testB = train_test_split(B,test_size=2,random_state=random_state)\n",
    "trainC,testC = train_test_split(C,test_size=2,random_state=random_state)"
   ]
  },
  {
   "cell_type": "code",
   "execution_count": 62,
   "metadata": {},
   "outputs": [
    {
     "name": "stdout",
     "output_type": "stream",
     "text": [
      "[0, 7, 8, 9, 3, 5, 4, 6, 2]\n",
      "[0, 7, 8, 9, 3, 5, 4, 6, 2]\n",
      "[[0, 0], [7, 7], [8, 8], [9, 9], [3, 3], [5, 5], [4, 4], [6, 6], [2, 2]]\n"
     ]
    }
   ],
   "source": [
    "print(trainA)\n",
    "print(trainB)\n",
    "print(trainC)"
   ]
  },
  {
   "cell_type": "code",
   "execution_count": 63,
   "metadata": {},
   "outputs": [
    {
     "name": "stdout",
     "output_type": "stream",
     "text": [
      "[1, 10]\n",
      "[1, 10]\n",
      "[[1, 1], [10, 10]]\n"
     ]
    }
   ],
   "source": [
    "print(testA)\n",
    "print(testB)\n",
    "print(testC)"
   ]
  },
  {
   "cell_type": "code",
   "execution_count": null,
   "metadata": {},
   "outputs": [],
   "source": [
    "\n"
   ]
  }
 ],
 "metadata": {
  "kernelspec": {
   "display_name": "Python 3",
   "language": "python",
   "name": "python3"
  },
  "language_info": {
   "codemirror_mode": {
    "name": "ipython",
    "version": 3
   },
   "file_extension": ".py",
   "mimetype": "text/x-python",
   "name": "python",
   "nbconvert_exporter": "python",
   "pygments_lexer": "ipython3",
   "version": "3.7.4"
  }
 },
 "nbformat": 4,
 "nbformat_minor": 2
}
